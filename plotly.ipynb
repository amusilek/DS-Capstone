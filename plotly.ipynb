{
    "cells": [
        {
            "cell_type": "code",
            "execution_count": 1,
            "metadata": {},
            "outputs": [
                {
                    "ename": "ModuleNotFoundError",
                    "evalue": "No module named 'dash'",
                    "output_type": "error",
                    "traceback": [
                        "\u001b[0;31m---------------------------------------------------------------------------\u001b[0m",
                        "\u001b[0;31mModuleNotFoundError\u001b[0m                       Traceback (most recent call last)",
                        "\u001b[0;32m<ipython-input-1-cd0e19e090fa>\u001b[0m in \u001b[0;36m<module>\u001b[0;34m\u001b[0m\n\u001b[1;32m      1\u001b[0m \u001b[0;31m# Import required libraries\u001b[0m\u001b[0;34m\u001b[0m\u001b[0;34m\u001b[0m\u001b[0;34m\u001b[0m\u001b[0m\n\u001b[1;32m      2\u001b[0m \u001b[0;32mimport\u001b[0m \u001b[0mpandas\u001b[0m \u001b[0;32mas\u001b[0m \u001b[0mpd\u001b[0m\u001b[0;34m\u001b[0m\u001b[0;34m\u001b[0m\u001b[0m\n\u001b[0;32m----> 3\u001b[0;31m \u001b[0;32mimport\u001b[0m \u001b[0mdash\u001b[0m\u001b[0;34m\u001b[0m\u001b[0;34m\u001b[0m\u001b[0m\n\u001b[0m\u001b[1;32m      4\u001b[0m \u001b[0;32mimport\u001b[0m \u001b[0mdash_html_components\u001b[0m \u001b[0;32mas\u001b[0m \u001b[0mhtml\u001b[0m\u001b[0;34m\u001b[0m\u001b[0;34m\u001b[0m\u001b[0m\n\u001b[1;32m      5\u001b[0m \u001b[0;32mimport\u001b[0m \u001b[0mdash_core_components\u001b[0m \u001b[0;32mas\u001b[0m \u001b[0mdcc\u001b[0m\u001b[0;34m\u001b[0m\u001b[0;34m\u001b[0m\u001b[0m\n",
                        "\u001b[0;31mModuleNotFoundError\u001b[0m: No module named 'dash'"
                    ]
                }
            ],
            "source": "# Import required libraries\nimport pandas as pd\nimport dash\nimport dash_html_components as html\nimport dash_core_components as dcc\nfrom dash.dependencies import Input, Output\nimport plotly.express as px\n\n# Read the airline data into pandas dataframe\nspacex_df = pd.read_csv(\"spacex_launch_dash.csv\")\nmax_payload = spacex_df['Payload Mass (kg)'].max()\nmin_payload = spacex_df['Payload Mass (kg)'].min()\n\n\n# Create a dash application\napp = dash.Dash(__name__)\n\n# Create an app layout\napp.layout = html.Div(children=[html.H1('SpaceX Launch Records Dashboard',\n                                        style={'textAlign': 'center', 'color': '#503D36',\n                                               'font-size': 40}),\n                                # TASK 1: Add a dropdown list to enable Launch Site selection\n                                # The default select value is for ALL sites\n                                dcc.Dropdown(id='site-dropdown',\n                                options = [\n                                    {'label': 'CCAFS LC-40', 'value': 'CCAFS LC-40'},\n                                    {'label': 'CCAFS SLC-40', 'value': 'CCAFS SLC-40'},\n                                    {'label': 'KSC LC-39A', 'value': 'KSC LC-39A'},\n                                    {'label': 'VAFB SLC-4E', 'value': 'VAFB SLC-4E'},\n                                    {'label': 'Select All', 'value': 'All'}],\n                                value = 'All',\n                                placeholder = 'Select a Launch Site Here',\n                                searchable= True),\n                                html.Br(),\n\n                                # TASK 2: Add a pie chart to show the total successful launches count for all sites\n                                # If a specific launch site was selected, show the Success vs. Failed counts for the site\n                                html.Div(dcc.Graph(id='success-pie-chart')),\n                                html.Br(),\n\n                                html.P(\"Payload range (Kg):\"),\n                                # TASK 3: Add a slider to select payload range\n                                dcc.RangeSlider(id='payload-slider', min = 0, max = 10000, step = 1000, \n                                value = [min_payload, max_payload]),\n\n                                # TASK 4: Add a scatter chart to show the correlation between payload and launch success\n                                html.Div(dcc.Graph(id='success-payload-scatter-chart')),\n                                ])\n\n# TASK 2:\n# Add a callback function for `site-dropdown` as input, `success-pie-chart` as output\n@app.callback( Output(component_id='success-pie-chart', component_property='figure'),\n               Input(component_id='site-dropdown', component_property='value'))\ndef pie(site_dropdown):\n    if site_dropdown == 'All':\n        success_pie = px.pie(spacex_df, values = 'class', names = 'Launch Site', title = 'Success rate proportion by all Launch Sites')\n        return success_pie\n\n    else:\n        filtered_pie = spacex_df[spacex_df['Launch Site'] == site_dropdown]\n        class_pie = filtered_pie.groupby(['Launch Site','class']).size().reset_index(name = 'class count')\n        success_pie = px.pie(class_pie, values = 'class count', names = 'class', title = 'Success rate proportion by site: {}'.format(site_dropdown))\n        return success_pie\n        \n# TASK 4:\n# Add a callback function for `site-dropdown` and `payload-slider` as inputs, `success-payload-scatter-chart` as output\n@app.callback(\n                Output(component_id='success-payload-scatter-chart', component_property='figure'),\n                [Input(component_id='site-dropdown', component_property='value'),\n                Input(component_id='payload-slider', component_property='value')])\ndef scatter(site_dropdown,slider_range):\n    low, high = slider_range\n    masks = (spacex_df['Payload Mass (kg)'] > low) & (spacex_df['Payload Mass (kg)'] < high)\n    df_scatter = spacex_df[masks]\n\n    if site_dropdown == 'All':\n        scatter_fig = px.scatter(df_scatter, x=\"Payload Mass (kg)\", y=\"class\", color=\"Booster Version Category\",\n        title='Payload Success Rate for All Sites')\n        return scatter_fig\n\n    else:\n        filtered_scatter = df_scatter[df_scatter['Launch Site'] == site_dropdown]\n        scatter_fig = px.scatter(filtered_scatter, x=\"Payload Mass (kg)\", y=\"class\", color=\"Booster Version Category\",\n        title='Payload Success Rate for Site: {}'.format(site_dropdown))\n        return scatter_fig\n\n# Run the app\nif __name__ == '__main__':\n    app.run_server()"
        },
        {
            "cell_type": "code",
            "execution_count": null,
            "metadata": {},
            "outputs": [],
            "source": ""
        }
    ],
    "metadata": {
        "kernelspec": {
            "display_name": "Python 3.8",
            "language": "python",
            "name": "python3"
        },
        "language_info": {
            "codemirror_mode": {
                "name": "ipython",
                "version": 3
            },
            "file_extension": ".py",
            "mimetype": "text/x-python",
            "name": "python",
            "nbconvert_exporter": "python",
            "pygments_lexer": "ipython3",
            "version": "3.8.10"
        }
    },
    "nbformat": 4,
    "nbformat_minor": 1
}